{
  "nbformat": 4,
  "nbformat_minor": 0,
  "metadata": {
    "colab": {
      "provenance": [],
      "collapsed_sections": []
    },
    "kernelspec": {
      "name": "python3",
      "display_name": "Python 3"
    },
    "language_info": {
      "name": "python"
    }
  },
  "cells": [
    {
      "cell_type": "markdown",
      "source": [
        "####**Машинное обучение на pySpark на примере линейной регрессии**\n",
        "#### Задание: обучить модель с разными параметрами, разделить данные на тренировочную и тестовую выборки, посчитать точность тестовой выборки"
      ],
      "metadata": {
        "id": "rsbhB2M31Zy8"
      }
    },
    {
      "cell_type": "code",
      "source": [
        "!pip install pyspark==3.0.1 py4j==0.10.9"
      ],
      "metadata": {
        "colab": {
          "base_uri": "https://localhost:8080/"
        },
        "id": "CfFoO_KUR13Q",
        "outputId": "0de5d450-0cd6-44f5-b381-de4a4e9716a1"
      },
      "execution_count": 1,
      "outputs": [
        {
          "output_type": "stream",
          "name": "stdout",
          "text": [
            "Looking in indexes: https://pypi.org/simple, https://us-python.pkg.dev/colab-wheels/public/simple/\n",
            "Collecting pyspark==3.0.1\n",
            "  Downloading pyspark-3.0.1.tar.gz (204.2 MB)\n",
            "\u001b[K     |████████████████████████████████| 204.2 MB 31 kB/s \n",
            "\u001b[?25hCollecting py4j==0.10.9\n",
            "  Downloading py4j-0.10.9-py2.py3-none-any.whl (198 kB)\n",
            "\u001b[K     |████████████████████████████████| 198 kB 18.0 MB/s \n",
            "\u001b[?25hBuilding wheels for collected packages: pyspark\n",
            "  Building wheel for pyspark (setup.py) ... \u001b[?25l\u001b[?25hdone\n",
            "  Created wheel for pyspark: filename=pyspark-3.0.1-py2.py3-none-any.whl size=204612243 sha256=eab8aaa090043f07218cc960dd15b363c06fa24399949d7c11eaae7f386be292\n",
            "  Stored in directory: /root/.cache/pip/wheels/5e/34/fa/b37b5cef503fc5148b478b2495043ba61b079120b7ff379f9b\n",
            "Successfully built pyspark\n",
            "Installing collected packages: py4j, pyspark\n",
            "Successfully installed py4j-0.10.9 pyspark-3.0.1\n"
          ]
        }
      ]
    },
    {
      "cell_type": "code",
      "source": [
        "from pyspark.sql import SparkSession\n",
        "\n",
        "spark = SparkSession.builder\\\n",
        "        .appName('PySpark_Tutorial')\\\n",
        "        .getOrCreate()"
      ],
      "metadata": {
        "id": "5mC-yM3PR-Rh"
      },
      "execution_count": 2,
      "outputs": []
    },
    {
      "cell_type": "code",
      "source": [
        "from pyspark.ml import Pipeline\n",
        "from pyspark.ml.feature import StringIndexer, VectorIndexer, VectorAssembler\n",
        "from pyspark.mllib.linalg import Vectors\n",
        "from pyspark.ml.classification import LogisticRegression\n",
        "from pyspark.ml.param import Param, Params"
      ],
      "metadata": {
        "id": "QKJ98eEAWQOn"
      },
      "execution_count": 3,
      "outputs": []
    },
    {
      "cell_type": "code",
      "source": [
        "data = (\n",
        "    spark.read\n",
        "    .option('sep', ';')\n",
        "    .option('inferSchema', True)\n",
        "    .option('header', True)\n",
        "    .csv('train_case2.csv')\n",
        ")"
      ],
      "metadata": {
        "id": "vGWXiktbSMKI"
      },
      "execution_count": 4,
      "outputs": []
    },
    {
      "cell_type": "code",
      "source": [
        "data.show(10)"
      ],
      "metadata": {
        "colab": {
          "base_uri": "https://localhost:8080/"
        },
        "id": "e8Vy9mAwSTsq",
        "outputId": "766c9727-015b-458e-e158-3e431dded884"
      },
      "execution_count": 5,
      "outputs": [
        {
          "output_type": "stream",
          "name": "stdout",
          "text": [
            "+---+-----+------+------+------+-----+-----+-----------+----+-----+----+------+------+\n",
            "| id|  age|gender|height|weight|ap_hi|ap_lo|cholesterol|gluc|smoke|alco|active|cardio|\n",
            "+---+-----+------+------+------+-----+-----+-----------+----+-----+----+------+------+\n",
            "|  0|18393|     2|   168|  62.0|  110|   80|          1|   1|    0|   0|     1|     0|\n",
            "|  1|20228|     1|   156|  85.0|  140|   90|          3|   1|    0|   0|     1|     1|\n",
            "|  2|18857|     1|   165|  64.0|  130|   70|          3|   1|    0|   0|     0|     1|\n",
            "|  3|17623|     2|   169|  82.0|  150|  100|          1|   1|    0|   0|     1|     1|\n",
            "|  4|17474|     1|   156|  56.0|  100|   60|          1|   1|    0|   0|     0|     0|\n",
            "|  8|21914|     1|   151|  67.0|  120|   80|          2|   2|    0|   0|     0|     0|\n",
            "|  9|22113|     1|   157|  93.0|  130|   80|          3|   1|    0|   0|     1|     0|\n",
            "| 12|22584|     2|   178|  95.0|  130|   90|          3|   3|    0|   0|     1|     1|\n",
            "| 13|17668|     1|   158|  71.0|  110|   70|          1|   1|    0|   0|     1|     0|\n",
            "| 14|19834|     1|   164|  68.0|  110|   60|          1|   1|    0|   0|     0|     0|\n",
            "+---+-----+------+------+------+-----+-----+-----------+----+-----+----+------+------+\n",
            "only showing top 10 rows\n",
            "\n"
          ]
        }
      ]
    },
    {
      "cell_type": "code",
      "source": [
        "data.select('id').count()"
      ],
      "metadata": {
        "colab": {
          "base_uri": "https://localhost:8080/"
        },
        "id": "yqkQaqbEblPl",
        "outputId": "ee7dc0b6-2fbc-4083-8ca3-ce8a8624d589"
      },
      "execution_count": 6,
      "outputs": [
        {
          "output_type": "execute_result",
          "data": {
            "text/plain": [
              "70000"
            ]
          },
          "metadata": {},
          "execution_count": 6
        }
      ]
    },
    {
      "cell_type": "code",
      "source": [
        "data.printSchema()"
      ],
      "metadata": {
        "colab": {
          "base_uri": "https://localhost:8080/"
        },
        "id": "xc7BhF7Kbqmz",
        "outputId": "fb20bd1a-b2a5-49ad-a7f7-1de9339d96bd"
      },
      "execution_count": 7,
      "outputs": [
        {
          "output_type": "stream",
          "name": "stdout",
          "text": [
            "root\n",
            " |-- id: integer (nullable = true)\n",
            " |-- age: integer (nullable = true)\n",
            " |-- gender: integer (nullable = true)\n",
            " |-- height: integer (nullable = true)\n",
            " |-- weight: double (nullable = true)\n",
            " |-- ap_hi: integer (nullable = true)\n",
            " |-- ap_lo: integer (nullable = true)\n",
            " |-- cholesterol: integer (nullable = true)\n",
            " |-- gluc: integer (nullable = true)\n",
            " |-- smoke: integer (nullable = true)\n",
            " |-- alco: integer (nullable = true)\n",
            " |-- active: integer (nullable = true)\n",
            " |-- cardio: integer (nullable = true)\n",
            "\n"
          ]
        }
      ]
    },
    {
      "cell_type": "code",
      "source": [
        "#преобразование нескольких колонок в вектор-колонку - признаки\n",
        "assemblerInputs = ['age', 'gender', 'height', 'weight', 'ap_hi', \n",
        "                   'ap_lo', 'cholesterol', 'gluc', 'smoke', 'alco', 'active']\n",
        "\n",
        "\n",
        "assembler = VectorAssembler(inputCols=assemblerInputs, outputCol='features')"
      ],
      "metadata": {
        "id": "uU4R-QUxcjio"
      },
      "execution_count": 30,
      "outputs": []
    },
    {
      "cell_type": "code",
      "source": [
        "data = assembler.transform(data)"
      ],
      "metadata": {
        "id": "Y3FTJmdjUMLt"
      },
      "execution_count": 31,
      "outputs": []
    },
    {
      "cell_type": "code",
      "source": [
        "#разделим данные на train/test\n",
        "\n",
        "train, test = data.randomSplit([0.7, 0.3])"
      ],
      "metadata": {
        "id": "3CGACQPwShpF"
      },
      "execution_count": 32,
      "outputs": []
    },
    {
      "cell_type": "code",
      "source": [
        "#обучаем модель\n",
        "\n",
        "lr = LogisticRegression(featuresCol='features', labelCol='cardio',  maxIter=10, regParam=0.01)"
      ],
      "metadata": {
        "id": "r_39RdciUMAc"
      },
      "execution_count": 33,
      "outputs": []
    },
    {
      "cell_type": "code",
      "source": [
        "model = lr.fit(train)"
      ],
      "metadata": {
        "id": "1SkQkN7rXTQo"
      },
      "execution_count": 34,
      "outputs": []
    },
    {
      "cell_type": "code",
      "source": [
        "# делаем предсказания на тестовой выборке\n",
        "\n",
        "predictions = model.transform(test)"
      ],
      "metadata": {
        "id": "z8J5WbiJgW1u"
      },
      "execution_count": 35,
      "outputs": []
    },
    {
      "cell_type": "code",
      "source": [
        "#посмотрим на метрику качества обученной модели\n",
        "\n",
        "from pyspark.ml.evaluation import BinaryClassificationEvaluator\n",
        "evaluator = BinaryClassificationEvaluator(labelCol='cardio')\n",
        "print('Evaluation:', evaluator.evaluate(predictions))"
      ],
      "metadata": {
        "colab": {
          "base_uri": "https://localhost:8080/"
        },
        "id": "P-yXs7fVhq30",
        "outputId": "74b372b7-4971-43e3-d041-55f0c738e394"
      },
      "execution_count": 38,
      "outputs": [
        {
          "output_type": "stream",
          "name": "stdout",
          "text": [
            "Evaluation: 0.7211768430962349\n"
          ]
        }
      ]
    },
    {
      "cell_type": "code",
      "source": [],
      "metadata": {
        "id": "36uOHLPiWlWj"
      },
      "execution_count": null,
      "outputs": []
    }
  ]
}